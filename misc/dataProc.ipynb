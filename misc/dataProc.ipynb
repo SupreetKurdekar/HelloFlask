{
 "cells": [
  {
   "cell_type": "code",
   "execution_count": 3,
   "metadata": {},
   "outputs": [],
   "source": [
    "import pandas as pd\n",
    "\n",
    "data = pd.read_excel(\"ProjectData.xlsx\")"
   ]
  },
  {
   "cell_type": "code",
   "execution_count": 4,
   "metadata": {},
   "outputs": [
    {
     "data": {
      "text/html": [
       "<div>\n",
       "<style scoped>\n",
       "    .dataframe tbody tr th:only-of-type {\n",
       "        vertical-align: middle;\n",
       "    }\n",
       "\n",
       "    .dataframe tbody tr th {\n",
       "        vertical-align: top;\n",
       "    }\n",
       "\n",
       "    .dataframe thead th {\n",
       "        text-align: right;\n",
       "    }\n",
       "</style>\n",
       "<table border=\"1\" class=\"dataframe\">\n",
       "  <thead>\n",
       "    <tr style=\"text-align: right;\">\n",
       "      <th></th>\n",
       "      <th>Project Name</th>\n",
       "      <th>Project manager</th>\n",
       "      <th>Project cost</th>\n",
       "      <th>Start date</th>\n",
       "      <th>End date</th>\n",
       "    </tr>\n",
       "  </thead>\n",
       "  <tbody>\n",
       "    <tr>\n",
       "      <th>0</th>\n",
       "      <td>Apple</td>\n",
       "      <td>Mickey</td>\n",
       "      <td>100</td>\n",
       "      <td>2024-01-02</td>\n",
       "      <td>2029-01-02</td>\n",
       "    </tr>\n",
       "    <tr>\n",
       "      <th>1</th>\n",
       "      <td>Android</td>\n",
       "      <td>Donald</td>\n",
       "      <td>200</td>\n",
       "      <td>2021-04-29</td>\n",
       "      <td>2030-01-02</td>\n",
       "    </tr>\n",
       "    <tr>\n",
       "      <th>2</th>\n",
       "      <td>Windows</td>\n",
       "      <td>Daffy</td>\n",
       "      <td>300</td>\n",
       "      <td>2024-11-22</td>\n",
       "      <td>2035-11-22</td>\n",
       "    </tr>\n",
       "    <tr>\n",
       "      <th>3</th>\n",
       "      <td>Linux</td>\n",
       "      <td>Pluto</td>\n",
       "      <td>50000</td>\n",
       "      <td>2022-01-12</td>\n",
       "      <td>2024-01-12</td>\n",
       "    </tr>\n",
       "  </tbody>\n",
       "</table>\n",
       "</div>"
      ],
      "text/plain": [
       "  Project Name Project manager  Project cost Start date   End date\n",
       "0        Apple          Mickey           100 2024-01-02 2029-01-02\n",
       "1      Android          Donald           200 2021-04-29 2030-01-02\n",
       "2      Windows           Daffy           300 2024-11-22 2035-11-22\n",
       "3        Linux           Pluto         50000 2022-01-12 2024-01-12"
      ]
     },
     "execution_count": 4,
     "metadata": {},
     "output_type": "execute_result"
    }
   ],
   "source": [
    "data.head()"
   ]
  },
  {
   "cell_type": "code",
   "execution_count": 5,
   "metadata": {},
   "outputs": [],
   "source": [
    "data[\"Days\"] = data['End date'] - data['Start date']"
   ]
  },
  {
   "cell_type": "code",
   "execution_count": 21,
   "metadata": {},
   "outputs": [
    {
     "name": "stdout",
     "output_type": "stream",
     "text": [
      "<_io.BytesIO object at 0x00000222973FF1D0>\n"
     ]
    }
   ],
   "source": [
    "from matplotlib.figure import Figure\n",
    "#import base64\n",
    "from io import BytesIO\n",
    "fig = Figure()\n",
    "ax = fig.add_subplot()\n",
    "\n",
    "ax.barh(y=data['Project Name'],left=data['Start date'],width=data['Days'])\n",
    "\n",
    "buf = BytesIO()\n",
    "fig.savefig(\"trialImg.png\", format=\"png\")\n",
    "\n",
    "print(buf)"
   ]
  }
 ],
 "metadata": {
  "kernelspec": {
   "display_name": "torch23",
   "language": "python",
   "name": "python3"
  },
  "language_info": {
   "codemirror_mode": {
    "name": "ipython",
    "version": 3
   },
   "file_extension": ".py",
   "mimetype": "text/x-python",
   "name": "python",
   "nbconvert_exporter": "python",
   "pygments_lexer": "ipython3",
   "version": "3.8.19"
  }
 },
 "nbformat": 4,
 "nbformat_minor": 2
}
